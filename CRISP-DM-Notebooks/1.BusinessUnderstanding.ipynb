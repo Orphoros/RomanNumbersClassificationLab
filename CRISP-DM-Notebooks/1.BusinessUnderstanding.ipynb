{
 "cells": [
  {
   "cell_type": "markdown",
   "metadata": {},
   "source": [
    "# 1. Business Understanding\n",
    "\n",
    "## 1.1 Business Objective\n",
    "\n",
    "The goal of the project is to create a machine learning model capable of accurately recognizing and categorizing handwritten roman digits, regardless of variations in handwriting styles.\n",
    "\n",
    "**Success criteria:**\n",
    "\n",
    "Each handwritten digit from 0-9 should be recognized and categorized with any type of handwriting style without any bias.\n",
    "\n",
    "## 1.2 Situation Assessment\n",
    "\n",
    "**Resources available:**\n",
    "\n",
    "The [MNIST dataset](https://www.kaggle.com/datasets/scolianni/mnistasjpg) is a large dataset of handwritten digits that is commonly used for training various image processing systems. The dataset contains a total of 42'000 JPG images for training. Each image is a 28x28 pixel image of a handwritten digit, and each pixel is represented by a grayscale value between 0 and 255. In the training set, each image is categorized by the digit it represents (0-9) in subfolders.\n",
    "\n",
    "To conclude, there is a big-enough training set to train a model.\n",
    "\n",
    "**Risks and contingencies:**\n",
    "\n",
    "The biggest risk is that the model might overfit the training data and not generalize well to unseen data. To mitigate this risk, we will use cross-validation to evaluate the model's performance on unseen data.\n",
    "\n",
    "## 1.3 Data Mining Goals\n",
    "\n",
    "**Data mining success criteria:**\n",
    "\n",
    "- The model is not overfitting the training data.\n",
    "- The model is able to generalize well to unseen data.\n",
    "- The model is able to recognize and categorize handwritten roman digits with an accuracy of at least 90%.\n",
    "- The accuracy of the model is consistent across all digits with +/- 10% accuracy.\n",
    "- The minimum acceptable accuracy for any digit is 80%.\n",
    "\n",
    "## 1.4 Project Plan\n",
    "\n",
    "1. **Data Collection:** Collect the MNIST dataset from Kaggle.\n",
    "2. **Extract Features:** Extract features from the images to use as input for the model.\n",
    "3. **Data Preprocessing:** Preprocess the data to make it suitable for training.\n",
    "4. **Model Selection:** Select a suitable model for training.\n",
    "5. **Model Training:** Train the model on the training data.\n",
    "6. **Model Evaluation:** Evaluate the model on the test data.\n"
   ]
  }
 ],
 "metadata": {
  "kernelspec": {
   "display_name": ".venv",
   "language": "python",
   "name": "python3"
  },
  "language_info": {
   "name": "python",
   "version": "3.13.2"
  }
 },
 "nbformat": 4,
 "nbformat_minor": 2
}
